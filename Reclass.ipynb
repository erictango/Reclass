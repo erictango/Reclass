{
 "cells": [
  {
   "cell_type": "code",
   "execution_count": null,
   "metadata": {
    "collapsed": true
   },
   "outputs": [],
   "source": [
    "#This code is published in arcgis server on http://qilin.geog.uw.edu:6080/arcgis/rest/services/erictango/Reclass/GPServer/ReclassEric \n",
    "#getting Canopy/Ipython to be able to import each others's packages\n",
    "import sys\n",
    "sys.path.append('C:\\\\Program Files (x86)\\\\ArcGIS\\\\Desktop10.2\\\\bin')\n",
    "sys.path.append('C:\\\\Program Files (x86)\\\\ArcGIS\\\\Desktop10.2\\\\arcpy')\n",
    "sys.path.append('C:\\\\Program Files (x86)\\\\ArcGIS\\\\Desktop10.2\\\\ArcToolbox\\\\Scripts')\n",
    "import arcpy\n",
    "\n",
    "inputFc = arcpy.GetParameterAsText(0) #input feature class\n",
    "inputTable = arcpy.GetParameterAsText(1) #input reclass table\n",
    "inputField = arcpy.GetParameterAsText(2) #name field reclassified\n",
    "outputField = arcpy.GetParameterAsText(3) #name output field\n",
    "NotFoundValue = arcpy.GetParameterAsText(4) #value used in output field for NULL values\n",
    "\n",
    "fieldname = arcpy.ValidateFieldName(outputField) #Validate new field name\n",
    "arcpy.AddField_management(inputFc, fieldname, \"DOUBLE\") #add the validate field to the output feature class\n",
    "\n",
    "#update the output field\n",
    "updateCursor = arcpy.da.UpdateCursor(inputFc, [inputField, fieldname])\n",
    "\n",
    "for row in updateCursor: #search in reclass table\n",
    "    searchCursor = arcpy.da.SearchCursor(inputTable, [\"lowerbound\", \"upperbound\", \"value\"])\n",
    "    row[1] = NotFoundValue #set default Value  NotFoundValue\n",
    "    updateCursor.updateRow(row)\n",
    "    for rowTable in searchCursor: #if reclass value exists over write default value\n",
    "        if row[0] >= rowTable[0] and row[0] <= rowTable[1]:\n",
    "            row[1] = rowTable[2]\n",
    "            updateCursor.updateRow(row)\n",
    "        else:\n",
    "            pass\n",
    "    del rowTable\n",
    "    del searchCursor\n",
    "del row\n",
    "del updateCursor"
   ]
  }
 ],
 "metadata": {
  "kernelspec": {
   "display_name": "Python 3",
   "language": "python",
   "name": "python3"
  },
  "language_info": {
   "codemirror_mode": {
    "name": "ipython",
    "version": 3
   },
   "file_extension": ".py",
   "mimetype": "text/x-python",
   "name": "python",
   "nbconvert_exporter": "python",
   "pygments_lexer": "ipython3",
   "version": "3.5.1"
  }
 },
 "nbformat": 4,
 "nbformat_minor": 0
}
